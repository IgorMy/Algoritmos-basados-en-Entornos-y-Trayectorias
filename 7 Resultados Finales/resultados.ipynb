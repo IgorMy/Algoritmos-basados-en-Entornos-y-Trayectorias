{
 "metadata": {
  "language_info": {
   "codemirror_mode": {
    "name": "ipython",
    "version": 3
   },
   "file_extension": ".py",
   "mimetype": "text/x-python",
   "name": "python",
   "nbconvert_exporter": "python",
   "pygments_lexer": "ipython3",
   "version": "3.9.4"
  },
  "orig_nbformat": 2,
  "kernelspec": {
   "name": "python394jvsc74a57bd028507ff82f7a6249121355dd710cf5a6f691ac69384b468748b19f7d810cf4b6",
   "display_name": "Python 3.9.4 64-bit"
  },
  "metadata": {
   "interpreter": {
    "hash": "28507ff82f7a6249121355dd710cf5a6f691ac69384b468748b19f7d810cf4b6"
   }
  }
 },
 "nbformat": 4,
 "nbformat_minor": 2,
 "cells": [
  {
   "source": [
    "# Resultados"
   ],
   "cell_type": "markdown",
   "metadata": {}
  },
  {
   "source": [
    "En este fichero se cargaran todos los resultados Obtenidos por los diferentes algoritmos y se compararan en una tabla final."
   ],
   "cell_type": "markdown",
   "metadata": {}
  },
  {
   "source": [
    "## Librerías\n",
    "- pandas: necesaria para la carga y el tratamiento de datos"
   ],
   "cell_type": "markdown",
   "metadata": {}
  },
  {
   "cell_type": "code",
   "execution_count": 1,
   "metadata": {},
   "outputs": [],
   "source": [
    "import pandas as pd"
   ]
  },
  {
   "source": [
    "## Lectura de todos los resultados obtenidos en algoritmos anteriores"
   ],
   "cell_type": "markdown",
   "metadata": {}
  },
  {
   "cell_type": "code",
   "execution_count": 2,
   "metadata": {},
   "outputs": [],
   "source": [
    "datasets = [\"St70\",\"Ch130\",\"A280\",\"Pa654\",\"Vm1084\",\"Vm1748\"]\n",
    "algoritmos = [\"Greedy\", \"Búsqueda Aleatoria\", \"Búsqueda Local, el mejor\", \"Búsqueda Local, el primer mejor vecino\", \"Enfriamiento Simulado\", \"Búsqueda Tabú\"]\n",
    "resultados = []"
   ]
  },
  {
   "cell_type": "code",
   "execution_count": 3,
   "metadata": {},
   "outputs": [],
   "source": [
    "for indice in range(len(algoritmos)):\n",
    "    resultados.append(pd.read_csv(\"../\"+str(indice+1)+\" \"+ algoritmos[indice] +\"/Resultados.csv\", header=[0, 1], skipinitialspace=True, index_col=0))"
   ]
  },
  {
   "source": [
    "## Tabla de comparación de algoritmos"
   ],
   "cell_type": "markdown",
   "metadata": {}
  },
  {
   "cell_type": "code",
   "execution_count": 4,
   "metadata": {},
   "outputs": [],
   "source": [
    "mux = pd.MultiIndex.from_product([[\"St70\",\"Ch130\",\"A280\",\"Pa654\",\"Vm1084\",\"Vm1748\"], ['Med','Mej','S',\"Ev\"]])\n",
    "resultados_finales = pd.DataFrame(\n",
    "    columns=mux,\n",
    "    index = [\"Greedy\", \"Búsqueda Aleatoria\", \"Búsqueda Local, el mejor\", \"Búsqueda Local, el primer mejor vecino\", \"Enfriamiento Simulado\", \"Búsqueda Tabú\"]\n",
    ")"
   ]
  },
  {
   "cell_type": "code",
   "execution_count": 5,
   "metadata": {},
   "outputs": [],
   "source": [
    "for algoritmo in algoritmos:\n",
    "    for dataset in datasets:\n",
    "\n",
    "        indice_algoritmo = algoritmos.index(algoritmo)\n",
    "        indice_dataset = datasets.index(dataset)\n",
    "\n",
    "        resultados_finales.loc[algoritmo,(dataset,\"Med\")] = resultados[indice_algoritmo].loc[\"Media\",(dataset,\"Coste\")]\n",
    "        resultados_finales.loc[algoritmo,(dataset,\"Mej\")] = resultados[indice_algoritmo].loc[:\"Ejecución 10\",(dataset,\"Coste\")].min()\n",
    "        resultados_finales.loc[algoritmo,(dataset,\"S\")] = resultados[indice_algoritmo].loc[\"Des. Tip. (s)\",(dataset,\"Coste\")]\n",
    "        resultados_finales.loc[algoritmo,(dataset,\"Ev\")] = resultados[indice_algoritmo].loc[\"Media\",(dataset,\"#Ev\")]"
   ]
  },
  {
   "source": [
    "## Visualización de resultados"
   ],
   "cell_type": "markdown",
   "metadata": {}
  },
  {
   "cell_type": "code",
   "execution_count": 6,
   "metadata": {},
   "outputs": [
    {
     "output_type": "display_data",
     "data": {
      "text/plain": "                                          St70                                \\\n                                           Med     Mej           S        Ev   \nGreedy                                   830.0   830.0         0.0       1.0   \nBúsqueda Aleatoria                      2832.4  2775.0   37.443884  112000.0   \nBúsqueda Local, el mejor                1225.8  1071.0  132.909159  112000.0   \nBúsqueda Local, el primer mejor vecino  1090.3   998.0   88.025312   95363.2   \nEnfriamiento Simulado                   1020.3   931.0   64.908568  112001.0   \nBúsqueda Tabú                            999.3   911.0   52.575977  112001.0   \n\n                                          Ch130                        \\\n                                            Med      Mej            S   \nGreedy                                   7579.0   7579.0          0.0   \nBúsqueda Aleatoria                      38730.2  38041.0   381.277618   \nBúsqueda Local, el mejor                23744.2  22211.0   918.078283   \nBúsqueda Local, el primer mejor vecino  14210.7  12473.0  1414.676174   \nEnfriamiento Simulado                   10707.3   9577.0   692.580529   \nBúsqueda Tabú                           12430.4  11568.0   406.495647   \n\n                                                     A280           \\\n                                              Ev      Med      Mej   \nGreedy                                       1.0   3157.0   3157.0   \nBúsqueda Aleatoria                      208000.0  29516.9  28762.0   \nBúsqueda Local, el mejor                208000.0  26414.2  25139.0   \nBúsqueda Local, el primer mejor vecino  208000.0   9655.0   7517.0   \nEnfriamiento Simulado                   208001.0   6305.7   5849.0   \nBúsqueda Tabú                           208001.0   3312.8   2964.0   \n\n                                                                   Pa654  \\\n                                                  S        Ev        Med   \nGreedy                                          0.0       1.0    43457.0   \nBúsqueda Aleatoria                       406.824682  448000.0  1804369.2   \nBúsqueda Local, el mejor                 762.299562  448000.0  1967073.5   \nBúsqueda Local, el primer mejor vecino  1655.650527  448000.0   553849.3   \nEnfriamiento Simulado                     298.28102  448001.0   322668.3   \nBúsqueda Tabú                            323.272434  448001.0   132818.1   \n\n                                                                            \\\n                                              Mej             S         Ev   \nGreedy                                    43457.0           0.0        1.0   \nBúsqueda Aleatoria                      1783474.0  11488.417595  1046400.0   \nBúsqueda Local, el mejor                1829036.0  59615.671477  1046400.0   \nBúsqueda Local, el primer mejor vecino   432282.0  90656.021838  1046400.0   \nEnfriamiento Simulado                    282705.0  24695.934839  1046401.0   \nBúsqueda Tabú                            107542.0    59725.0824  1046401.0   \n\n                                           Vm1084                            \\\n                                              Med        Mej              S   \nGreedy                                   301476.0   301476.0            0.0   \nBúsqueda Aleatoria                      7974608.5  7944549.0   21663.223251   \nBúsqueda Local, el mejor                8412393.2  8274081.0  117801.464112   \nBúsqueda Local, el primer mejor vecino  3594089.0  3014575.0  565192.383034   \nEnfriamiento Simulado                   1277424.6  1177841.0   41676.507956   \nBúsqueda Tabú                           1820013.5  1703828.0   78136.693075   \n\n                                                       Vm1748              \\\n                                               Ev         Med         Mej   \nGreedy                                        1.0    408101.0    408101.0   \nBúsqueda Aleatoria                      1734400.0  14125079.3  14069521.0   \nBúsqueda Local, el mejor                1734400.0  14844292.4  14588539.0   \nBúsqueda Local, el primer mejor vecino  1734400.0   7857851.4   7481105.0   \nEnfriamiento Simulado                   1734401.0   2297841.1   2174382.0   \nBúsqueda Tabú                           1734401.0   3286075.2   3133754.0   \n\n                                                                  \n                                                    S         Ev  \nGreedy                                            0.0        1.0  \nBúsqueda Aleatoria                       34143.683854  2796800.0  \nBúsqueda Local, el mejor                159227.162508  2796800.0  \nBúsqueda Local, el primer mejor vecino  276297.508322  2796800.0  \nEnfriamiento Simulado                    84605.265152  2796801.0  \nBúsqueda Tabú                            87100.668577  2796801.0  ",
      "text/html": "<div>\n<style scoped>\n    .dataframe tbody tr th:only-of-type {\n        vertical-align: middle;\n    }\n\n    .dataframe tbody tr th {\n        vertical-align: top;\n    }\n\n    .dataframe thead tr th {\n        text-align: left;\n    }\n</style>\n<table border=\"1\" class=\"dataframe\">\n  <thead>\n    <tr>\n      <th></th>\n      <th colspan=\"4\" halign=\"left\">St70</th>\n      <th colspan=\"4\" halign=\"left\">Ch130</th>\n      <th colspan=\"4\" halign=\"left\">A280</th>\n      <th colspan=\"4\" halign=\"left\">Pa654</th>\n      <th colspan=\"4\" halign=\"left\">Vm1084</th>\n      <th colspan=\"4\" halign=\"left\">Vm1748</th>\n    </tr>\n    <tr>\n      <th></th>\n      <th>Med</th>\n      <th>Mej</th>\n      <th>S</th>\n      <th>Ev</th>\n      <th>Med</th>\n      <th>Mej</th>\n      <th>S</th>\n      <th>Ev</th>\n      <th>Med</th>\n      <th>Mej</th>\n      <th>S</th>\n      <th>Ev</th>\n      <th>Med</th>\n      <th>Mej</th>\n      <th>S</th>\n      <th>Ev</th>\n      <th>Med</th>\n      <th>Mej</th>\n      <th>S</th>\n      <th>Ev</th>\n      <th>Med</th>\n      <th>Mej</th>\n      <th>S</th>\n      <th>Ev</th>\n    </tr>\n  </thead>\n  <tbody>\n    <tr>\n      <th>Greedy</th>\n      <td>830.0</td>\n      <td>830.0</td>\n      <td>0.0</td>\n      <td>1.0</td>\n      <td>7579.0</td>\n      <td>7579.0</td>\n      <td>0.0</td>\n      <td>1.0</td>\n      <td>3157.0</td>\n      <td>3157.0</td>\n      <td>0.0</td>\n      <td>1.0</td>\n      <td>43457.0</td>\n      <td>43457.0</td>\n      <td>0.0</td>\n      <td>1.0</td>\n      <td>301476.0</td>\n      <td>301476.0</td>\n      <td>0.0</td>\n      <td>1.0</td>\n      <td>408101.0</td>\n      <td>408101.0</td>\n      <td>0.0</td>\n      <td>1.0</td>\n    </tr>\n    <tr>\n      <th>Búsqueda Aleatoria</th>\n      <td>2832.4</td>\n      <td>2775.0</td>\n      <td>37.443884</td>\n      <td>112000.0</td>\n      <td>38730.2</td>\n      <td>38041.0</td>\n      <td>381.277618</td>\n      <td>208000.0</td>\n      <td>29516.9</td>\n      <td>28762.0</td>\n      <td>406.824682</td>\n      <td>448000.0</td>\n      <td>1804369.2</td>\n      <td>1783474.0</td>\n      <td>11488.417595</td>\n      <td>1046400.0</td>\n      <td>7974608.5</td>\n      <td>7944549.0</td>\n      <td>21663.223251</td>\n      <td>1734400.0</td>\n      <td>14125079.3</td>\n      <td>14069521.0</td>\n      <td>34143.683854</td>\n      <td>2796800.0</td>\n    </tr>\n    <tr>\n      <th>Búsqueda Local, el mejor</th>\n      <td>1225.8</td>\n      <td>1071.0</td>\n      <td>132.909159</td>\n      <td>112000.0</td>\n      <td>23744.2</td>\n      <td>22211.0</td>\n      <td>918.078283</td>\n      <td>208000.0</td>\n      <td>26414.2</td>\n      <td>25139.0</td>\n      <td>762.299562</td>\n      <td>448000.0</td>\n      <td>1967073.5</td>\n      <td>1829036.0</td>\n      <td>59615.671477</td>\n      <td>1046400.0</td>\n      <td>8412393.2</td>\n      <td>8274081.0</td>\n      <td>117801.464112</td>\n      <td>1734400.0</td>\n      <td>14844292.4</td>\n      <td>14588539.0</td>\n      <td>159227.162508</td>\n      <td>2796800.0</td>\n    </tr>\n    <tr>\n      <th>Búsqueda Local, el primer mejor vecino</th>\n      <td>1090.3</td>\n      <td>998.0</td>\n      <td>88.025312</td>\n      <td>95363.2</td>\n      <td>14210.7</td>\n      <td>12473.0</td>\n      <td>1414.676174</td>\n      <td>208000.0</td>\n      <td>9655.0</td>\n      <td>7517.0</td>\n      <td>1655.650527</td>\n      <td>448000.0</td>\n      <td>553849.3</td>\n      <td>432282.0</td>\n      <td>90656.021838</td>\n      <td>1046400.0</td>\n      <td>3594089.0</td>\n      <td>3014575.0</td>\n      <td>565192.383034</td>\n      <td>1734400.0</td>\n      <td>7857851.4</td>\n      <td>7481105.0</td>\n      <td>276297.508322</td>\n      <td>2796800.0</td>\n    </tr>\n    <tr>\n      <th>Enfriamiento Simulado</th>\n      <td>1020.3</td>\n      <td>931.0</td>\n      <td>64.908568</td>\n      <td>112001.0</td>\n      <td>10707.3</td>\n      <td>9577.0</td>\n      <td>692.580529</td>\n      <td>208001.0</td>\n      <td>6305.7</td>\n      <td>5849.0</td>\n      <td>298.28102</td>\n      <td>448001.0</td>\n      <td>322668.3</td>\n      <td>282705.0</td>\n      <td>24695.934839</td>\n      <td>1046401.0</td>\n      <td>1277424.6</td>\n      <td>1177841.0</td>\n      <td>41676.507956</td>\n      <td>1734401.0</td>\n      <td>2297841.1</td>\n      <td>2174382.0</td>\n      <td>84605.265152</td>\n      <td>2796801.0</td>\n    </tr>\n    <tr>\n      <th>Búsqueda Tabú</th>\n      <td>999.3</td>\n      <td>911.0</td>\n      <td>52.575977</td>\n      <td>112001.0</td>\n      <td>12430.4</td>\n      <td>11568.0</td>\n      <td>406.495647</td>\n      <td>208001.0</td>\n      <td>3312.8</td>\n      <td>2964.0</td>\n      <td>323.272434</td>\n      <td>448001.0</td>\n      <td>132818.1</td>\n      <td>107542.0</td>\n      <td>59725.0824</td>\n      <td>1046401.0</td>\n      <td>1820013.5</td>\n      <td>1703828.0</td>\n      <td>78136.693075</td>\n      <td>1734401.0</td>\n      <td>3286075.2</td>\n      <td>3133754.0</td>\n      <td>87100.668577</td>\n      <td>2796801.0</td>\n    </tr>\n  </tbody>\n</table>\n</div>"
     },
     "metadata": {}
    }
   ],
   "source": [
    "with pd.option_context('display.max_rows', None, 'display.max_columns', None):\n",
    "    display(resultados_finales)"
   ]
  },
  {
   "cell_type": "code",
   "execution_count": 7,
   "metadata": {},
   "outputs": [],
   "source": [
    "resultados_finales.to_csv(\"./Resultados.csv\")"
   ]
  }
 ]
}