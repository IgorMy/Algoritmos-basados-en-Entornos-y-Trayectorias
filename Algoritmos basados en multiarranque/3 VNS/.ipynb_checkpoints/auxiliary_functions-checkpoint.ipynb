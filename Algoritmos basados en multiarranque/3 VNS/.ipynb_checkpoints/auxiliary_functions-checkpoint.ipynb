{
 "cells": [
  {
   "cell_type": "markdown",
   "metadata": {},
   "source": [
    "# Funciones auxiliares"
   ]
  },
  {
   "cell_type": "markdown",
   "metadata": {},
   "source": [
    "En este fichero se almacenarán funciones auxiliares para la carga de datos y su representación."
   ]
  },
  {
   "cell_type": "markdown",
   "metadata": {},
   "source": [
    "---\n",
    "## Librerías\n",
    "- matplotlib: necesaria para la representación de la solución.\n",
    "- pandas: necesaria para la representación de resultados.\n",
    "- math: necesaria para funciónes matemáticas."
   ]
  },
  {
   "cell_type": "code",
   "execution_count": 1,
   "metadata": {},
   "outputs": [],
   "source": [
    "from matplotlib import pyplot as plt\n",
    "import pandas as pd\n",
    "import math"
   ]
  },
  {
   "cell_type": "markdown",
   "metadata": {},
   "source": [
    "---\n",
    "## Funciones auxiliares\n",
    "\n",
    "- cargar_fichero(nombre_fichero): devuelve un array con las ciudades almacenadas en el fichero. [ [ ciudad, posición x , posición y ] [...] ... ]\n",
    "- calcular_distancia_euclidea(node_1,node_2): devuelve en la distancia entre las dos ciudades.\n",
    "- dibujar_flecha(A, B): dibuja una flecha entre el punto A y B apuntando a B. \n",
    "- representacion(camino, nombre, distancia): representa las ciudades y el camino calculado.\n",
    "- agregar_resultados(dataframe,nombre,result): guarda los resultados de la ejecución en el dataframe según la plantilla del pdf."
   ]
  },
  {
   "cell_type": "code",
   "execution_count": 2,
   "metadata": {},
   "outputs": [],
   "source": [
    "def cargar_fichero(nombre_fichero):\n",
    "    \n",
    "    fichero = open( \"../Dataset/\" + nombre_fichero + \".tsp\", 'r')\n",
    "    \n",
    "    for i in range(3):\n",
    "        fichero.readline()\n",
    "        \n",
    "    numero_de_ciudades = fichero.readline().strip().split()[1]\n",
    "    \n",
    "    for i in range(2):\n",
    "        fichero.readline()\n",
    "        \n",
    "    ciudades = []\n",
    "    for i in range(0, int(numero_de_ciudades)):\n",
    "        ciudad,x,y = fichero.readline().strip().split()[:]\n",
    "        ciudades.append([int(ciudad),float(x),float(y)])  \n",
    "        \n",
    "    fichero.close()\n",
    "    \n",
    "    return ciudades"
   ]
  },
  {
   "cell_type": "code",
   "execution_count": 3,
   "metadata": {},
   "outputs": [],
   "source": [
    "def calcular_distancia_euclidea(ciudad_1,ciudad_2):\n",
    "    \n",
    "    x1,y1 = ciudad_1[1 :]\n",
    "    x2,y2 = ciudad_2[1 :]\n",
    "    \n",
    "    xd = x1 - x2\n",
    "    yd = y1 - y2\n",
    "    \n",
    "    return round(math.sqrt( xd*xd + yd*yd ))"
   ]
  },
  {
   "cell_type": "code",
   "execution_count": 4,
   "metadata": {},
   "outputs": [],
   "source": [
    "def dibujar_flecha(A, B):\n",
    "    plt.arrow(A[0], A[1], B[0] - A[0], B[1] - A[1],\n",
    "              head_width=1.3, length_includes_head=True)"
   ]
  },
  {
   "cell_type": "code",
   "execution_count": 5,
   "metadata": {},
   "outputs": [],
   "source": [
    "def representacion(camino, nombre, distancia):\n",
    "    \n",
    "    plt.figure(figsize=(10,10))\n",
    "    \n",
    "    for i in range(len(camino)):\n",
    "        if(i == 0):\n",
    "            plt.plot(camino[i][1], camino[i][2] , \"o\", color=\"green\")\n",
    "        else:\n",
    "            plt.plot(camino[i][1], camino[i][2] , \"*\", color=\"red\")\n",
    "        \n",
    "        if(i<len(camino)-1):\n",
    "            dibujar_flecha([camino[i][1], camino[i][2]],[camino[i+1][1], camino[i+1][2]])\n",
    "        else:\n",
    "            dibujar_flecha([camino[i][1], camino[i][2]],[camino[0][1], camino[0][2]])\n",
    "    \n",
    "    plt.title(nombre + \" : \" + str(distancia))"
   ]
  },
  {
   "cell_type": "code",
   "execution_count": null,
   "metadata": {},
   "outputs": [],
   "source": [
    "def agregar_resultados(dataframe,nombre,estadisticas):\n",
    "\n",
    "    for i in range(len(estadisticas)):\n",
    "        dataframe.loc[dataframe.index[i],(nombre,\"S. ini\")] = round(estadisticas[i][0],2)\n",
    "        dataframe.loc[dataframe.index[i],(nombre,\"S. opt\")] = round(estadisticas[i][1],2)\n",
    "        dataframe.loc[dataframe.index[i],(nombre,\"Mej. S.\")] = round(estadisticas[i][2],2)\n",
    "        dataframe.loc[dataframe.index[i],(nombre,\"#Ev\")] = round(estadisticas[i][3],2)\n",
    "        dataframe.loc[dataframe.index[i],(nombre,\"T(seg)\")] = round(estadisticas[i][4],2)\n",
    "\n",
    "    \n",
    "    columnas = ['S. ini',\"S. opt\",\"Mej. S.\",'#Ev',\"T(seg)\"]\n",
    "    \n",
    "    for i in range(3):\n",
    "        for j in range(5):\n",
    "            if i == 0:\n",
    "                dataframe.loc[ dataframe.index[len(estadisticas)+i] , (nombre,columnas[j])  ] = round(dataframe.loc[:dataframe.index[len(estadisticas)-1] , (nombre,columnas[j]) ].mean(),2)\n",
    "            if i == 1:\n",
    "                dataframe.loc[ dataframe.index[len(estadisticas)+i] , (nombre,columnas[j])  ] = round(dataframe.loc[:dataframe.index[len(estadisticas)-1] , (nombre,columnas[j]) ].std(),2)\n",
    "            if i == 2:\n",
    "                if(j > 2):\n",
    "                    dataframe.loc[ dataframe.index[len(estadisticas)+i] , (nombre,columnas[j])  ] = round(dataframe.loc[:dataframe.index[len(estadisticas)-1] , (nombre,columnas[j]) ].sum(),2)\n",
    "                else:\n",
    "                    dataframe.loc[ dataframe.index[len(estadisticas)+i] , (nombre,columnas[j])  ] = \"-\";"
   ]
  },
  {
   "cell_type": "markdown",
   "metadata": {},
   "source": [
    "---\n",
    "## Función de evaluación\n",
    "Esta función genera el coste total de la solución pasara por parámetro. Para ello recorre todas las ciudades de la solución sumando el coste entre ellas. "
   ]
  },
  {
   "cell_type": "code",
   "execution_count": 7,
   "metadata": {},
   "outputs": [],
   "source": [
    "def funcion_de_evaluacion(solucion):\n",
    "    coste = 0\n",
    "    for indice in range(len(solucion)-1):\n",
    "        coste += calcular_distancia_euclidea(solucion[indice],solucion[indice+1])\n",
    "    coste += calcular_distancia_euclidea(solucion[-1],solucion[0])\n",
    "    return coste"
   ]
  }
 ],
 "metadata": {
  "kernelspec": {
   "display_name": "Python 3",
   "language": "python",
   "name": "python3"
  },
  "language_info": {
   "codemirror_mode": {
    "name": "ipython",
    "version": 3
   },
   "file_extension": ".py",
   "mimetype": "text/x-python",
   "name": "python",
   "nbconvert_exporter": "python",
   "pygments_lexer": "ipython3",
   "version": "3.9.4"
  },
  "metadata": {
   "interpreter": {
    "hash": "28507ff82f7a6249121355dd710cf5a6f691ac69384b468748b19f7d810cf4b6"
   }
  }
 },
 "nbformat": 4,
 "nbformat_minor": 4
}
