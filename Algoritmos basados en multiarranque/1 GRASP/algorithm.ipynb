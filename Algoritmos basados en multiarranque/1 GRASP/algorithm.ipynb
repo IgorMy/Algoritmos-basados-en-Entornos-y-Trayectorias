{
 "cells": [
  {
   "cell_type": "markdown",
   "metadata": {},
   "source": [
    "# Algoritmo"
   ]
  },
  {
   "cell_type": "markdown",
   "metadata": {},
   "source": [
    "En este fichero se almacena el algoritmo grasp y las funciones necesarias para su ejecución."
   ]
  },
  {
   "cell_type": "markdown",
   "metadata": {},
   "source": [
    "---\n",
    "## Librerías\n",
    "- numpy: necesaria para trabajar de forma eficiente con arrays.\n",
    "- random: necesaria para la generación de números aleatorios.\n",
    "- math: necesaria para las funciones matemáticas.\n",
    "- itertools: necesaria para funciones matemáticas.\n",
    "- sys: necesaria para la generación del máximo entero que se puede almacenar.\n",
    "- time: necesaria para la generación de estadisticas, en concreto, para visualizar el tiempo de ejecución del algoritmo."
   ]
  },
  {
   "cell_type": "code",
   "execution_count": 1,
   "metadata": {},
   "outputs": [],
   "source": [
    "import numpy as np\n",
    "import random\n",
    "import math\n",
    "import itertools\n",
    "import sys\n",
    "import time"
   ]
  },
  {
   "cell_type": "markdown",
   "metadata": {},
   "source": [
    "---\n",
    "## Función para calcular la matriz de costes"
   ]
  },
  {
   "cell_type": "code",
   "execution_count": 2,
   "metadata": {},
   "outputs": [],
   "source": [
    "def calcular_matriz_de_costes(dataset):\n",
    "    n_ciudades = len(dataset)\n",
    "    distancias = np.zeros((n_ciudades,n_ciudades))\n",
    "    for i in range(n_ciudades):\n",
    "        for j in range(n_ciudades):\n",
    "            if(i != j):\n",
    "                distancias[i][j] = calcular_distancia_euclidea(dataset[i],dataset[j])\n",
    "    return distancias"
   ]
  },
  {
   "cell_type": "code",
   "execution_count": 3,
   "metadata": {},
   "outputs": [],
   "source": [
    "def calcular_distancia_euclidea(ciudad_1,ciudad_2):\n",
    "    \n",
    "    x1,y1 = ciudad_1[1 :]\n",
    "    x2,y2 = ciudad_2[1 :]\n",
    "    \n",
    "    xd = x1 - x2\n",
    "    yd = y1 - y2\n",
    "    \n",
    "    return round(math.sqrt( xd*xd + yd*yd ))"
   ]
  },
  {
   "cell_type": "markdown",
   "metadata": {},
   "source": [
    "---\n",
    "## Busqueda local: el primer mejor vecino"
   ]
  },
  {
   "cell_type": "markdown",
   "metadata": {},
   "source": [
    "## Función para calcular el coste de un camíno en función de la matriz de costes"
   ]
  },
  {
   "cell_type": "code",
   "execution_count": 4,
   "metadata": {},
   "outputs": [],
   "source": [
    "def calcular_coste(camino,distancias):\n",
    "    coste = 0\n",
    "    for indice in range(len(camino)-1):\n",
    "        coste += distancias[camino[indice]][camino[indice+1]]\n",
    "    coste += distancias[camino[-1]][camino[0]]\n",
    "    return coste"
   ]
  },
  {
   "cell_type": "code",
   "execution_count": 5,
   "metadata": {},
   "outputs": [],
   "source": [
    "def generar_array_ciudades_cercanas_a_vecinos(combinaciones_indices_vecinos,len_dataset):\n",
    "    ciudades_cercanas = []\n",
    "\n",
    "    for combinacion in combinaciones_indices_vecinos:\n",
    "        if (combinacion[0] == 0):\n",
    "            a1 = len_dataset - 1\n",
    "        else:\n",
    "            a1 = combinacion[0] - 1\n",
    "\n",
    "        if (combinacion[0] == len_dataset - 1):\n",
    "            s1 = 0\n",
    "        else:\n",
    "            s1 = combinacion[0] + 1\n",
    "\n",
    "        if (combinacion[1] == 0):\n",
    "            a2 = len_dataset - 1\n",
    "        else:\n",
    "            a2 = combinacion[1] - 1\n",
    "\n",
    "        if (combinacion[1] == len_dataset - 1):\n",
    "            s2 = 0\n",
    "        else:\n",
    "            s2 = combinacion[1] + 1\n",
    "\n",
    "        ciudades_cercanas.append([a1, s1, a2, s2])\n",
    "\n",
    "    return ciudades_cercanas"
   ]
  },
  {
   "cell_type": "code",
   "execution_count": 6,
   "metadata": {},
   "outputs": [],
   "source": [
    "def calcular_coste_intercambio(mejor_coste,mejor_solucion,vecinos,intercambio,len_dataset,matriz_de_costes):\n",
    "    # Por cada vecino, estudiaremos su coste\n",
    "    coste_candidato = mejor_coste\n",
    "\n",
    "    # Primero, por comodidad, generaremos los indices del camino\n",
    "    a1 = vecinos[0]\n",
    "    s1 = vecinos[1]\n",
    "    a2 = vecinos[2]\n",
    "    s2 = vecinos[3]\n",
    "    i1 = intercambio[0]\n",
    "    i2 = intercambio[1]\n",
    "\n",
    "    if (i2 - 1 == i1):\n",
    "\n",
    "        # A continuación eliminaremos el coste generado por las conexiones de nodos a intercambiar\n",
    "\n",
    "        coste_candidato -= matriz_de_costes[mejor_solucion[a1]][mejor_solucion[i1]]\n",
    "        coste_candidato -= matriz_de_costes[mejor_solucion[i1]][mejor_solucion[i2]]\n",
    "        coste_candidato -= matriz_de_costes[mejor_solucion[i2]][mejor_solucion[s2]]\n",
    "\n",
    "        # Despues sumamos el coste del nuevo camino\n",
    "\n",
    "        coste_candidato += matriz_de_costes[mejor_solucion[a1]][mejor_solucion[i2]]\n",
    "        coste_candidato += matriz_de_costes[mejor_solucion[i2]][mejor_solucion[i1]]\n",
    "        coste_candidato += matriz_de_costes[mejor_solucion[i1]][mejor_solucion[s2]]\n",
    "\n",
    "    elif(i1 == 0 and i2 == len_dataset-1):\n",
    "        # A continuación eliminaremos el coste generado por las conexiones de nodos a intercambiar\n",
    "\n",
    "        coste_candidato -= matriz_de_costes[mejor_solucion[a2]][mejor_solucion[i2]]\n",
    "        coste_candidato -= matriz_de_costes[mejor_solucion[i2]][mejor_solucion[i1]]\n",
    "        coste_candidato -= matriz_de_costes[mejor_solucion[i1]][mejor_solucion[s1]]\n",
    "\n",
    "        # Despues sumamos el coste del nuevo camino\n",
    "\n",
    "        coste_candidato += matriz_de_costes[mejor_solucion[a2]][mejor_solucion[i1]]\n",
    "        coste_candidato += matriz_de_costes[mejor_solucion[i1]][mejor_solucion[i2]]\n",
    "        coste_candidato += matriz_de_costes[mejor_solucion[i2]][mejor_solucion[s1]]\n",
    "    else:\n",
    "\n",
    "        # A continuación eliminaremos el coste generado por las conexiones de nodos a intercambiar\n",
    "\n",
    "        coste_candidato -= matriz_de_costes[mejor_solucion[a1]][mejor_solucion[i1]]\n",
    "        coste_candidato -= matriz_de_costes[mejor_solucion[i1]][mejor_solucion[s1]]\n",
    "\n",
    "        coste_candidato -= matriz_de_costes[mejor_solucion[a2]][mejor_solucion[i2]]\n",
    "        coste_candidato -= matriz_de_costes[mejor_solucion[i2]][mejor_solucion[s2]]\n",
    "\n",
    "        # Despues sumamos el coste del nuevo camino\n",
    "\n",
    "        coste_candidato += matriz_de_costes[mejor_solucion[a1]][mejor_solucion[i2]]\n",
    "        coste_candidato += matriz_de_costes[mejor_solucion[i2]][mejor_solucion[s1]]\n",
    "\n",
    "        coste_candidato += matriz_de_costes[mejor_solucion[a2]][mejor_solucion[i1]]\n",
    "        coste_candidato += matriz_de_costes[mejor_solucion[i1]][mejor_solucion[s2]]\n",
    "    \n",
    "    return coste_candidato"
   ]
  },
  {
   "cell_type": "code",
   "execution_count": 7,
   "metadata": {},
   "outputs": [],
   "source": [
    "def busqueda_local_el_mejor_vecino(solucion,matriz_de_costes,len_dataset):\n",
    "    \n",
    "    mejor_solucion = solucion                                           # Generación de solución inicial\n",
    "    mejor_coste = calcular_coste(mejor_solucion, matriz_de_costes)      # Generación del coste inicial\n",
    "\n",
    "    # Número máximo de evaluaciones, segunda condición de parada del bucle.\n",
    "    num_evaluacion = len_dataset*1600\n",
    "\n",
    "    # Indices de todos los posibles intercambios de dos ciudades del dataset [ (0,1), (0,2), ... , (10,23), ...  ]\n",
    "    intercambios_de_dos_ciudades = list(itertools.combinations(list(range(0, len_dataset)), 2))\n",
    "    len_intercambios_de_dos_ciudades = len(intercambios_de_dos_ciudades)\n",
    "\n",
    "    # Indices de los vecinos de los indices del array intercambios_de_dos_ciudades : \n",
    "    # intercambios_de_dos_ciudades[x] = (6,10)\n",
    "    # vecinos_de_intercambios_de_dos_ciudades = [5,7,9,11]\n",
    "    vecinos_de_intercambios_de_dos_ciudades = generar_array_ciudades_cercanas_a_vecinos(intercambios_de_dos_ciudades,len_dataset)\n",
    "\n",
    "    \n",
    "    seguir = True       # Variable de salida del bucle\n",
    "    evaluacion = 0      # Nº de evaluaciones actual del bucle\n",
    "\n",
    "    while (seguir):\n",
    "\n",
    "        intercambio_actual = ()\n",
    "        coste_actual = mejor_coste\n",
    "\n",
    "        for i in range(len_intercambios_de_dos_ciudades):\n",
    "\n",
    "            coste_candidato = calcular_coste_intercambio(mejor_coste,mejor_solucion,vecinos_de_intercambios_de_dos_ciudades[i],intercambios_de_dos_ciudades[i],len_dataset,matriz_de_costes)\n",
    "\n",
    "            evaluacion += 1\n",
    "            \n",
    "            if (coste_candidato < coste_actual):\n",
    "                coste_actual = coste_candidato\n",
    "                intercambio_actual = intercambios_de_dos_ciudades[i]\n",
    "\n",
    "            if evaluacion >= num_evaluacion:\n",
    "                break\n",
    "                \n",
    "        if intercambio_actual == ():\n",
    "            seguir = False\n",
    "        else:\n",
    "            buffer = mejor_solucion[intercambio_actual[0]]\n",
    "            mejor_solucion[intercambio_actual[0]] = mejor_solucion[intercambio_actual[1]]\n",
    "            mejor_solucion[intercambio_actual[1]] = buffer\n",
    "            mejor_coste = coste_actual\n",
    "\n",
    "        if evaluacion >= num_evaluacion:\n",
    "            seguir = False\n",
    "\n",
    "    return mejor_solucion, mejor_coste, evaluacion"
   ]
  },
  {
   "cell_type": "markdown",
   "metadata": {},
   "source": [
    "---\n",
    "## Greedy aleatorizado"
   ]
  },
  {
   "cell_type": "code",
   "execution_count": 8,
   "metadata": {},
   "outputs": [],
   "source": [
    "def greedy_aleatorizado(matriz_de_costes,num_indices):\n",
    "\n",
    "    indice = random.randint(0,num_indices-1)\n",
    "\n",
    "    ciudades_no_analizadas = list(range(num_indices))\n",
    "    solucion_actual = [ciudades_no_analizadas[indice]]\n",
    "    ciudades_no_analizadas.pop(indice)\n",
    "\n",
    "    while(len(ciudades_no_analizadas) > 0):\n",
    "        \n",
    "        l = math.ceil(0.1 * len(ciudades_no_analizadas))\n",
    "\n",
    "        costes = []\n",
    "        for ciudad in ciudades_no_analizadas:\n",
    "            costes.append( matriz_de_costes[solucion_actual[-1]][ciudad])\n",
    "        \n",
    "        menores_indices = list(np.argsort(costes))[:l] # Indices del array ordenados por coste\n",
    "        costes_candidatos = [costes[indice] for indice in menores_indices] # Costes para cada ciudad\n",
    "        \n",
    "        costes_invertidos = [ 1/coste for coste in costes_candidatos]\n",
    "        total = sum(costes_invertidos)\n",
    "        \n",
    "        probabilidades = [coste/total for coste in costes_invertidos]\n",
    "        aleatorio = random.uniform(0,1)\n",
    "\n",
    "        encontrado = False\n",
    "        indice = 0\n",
    "\n",
    "        while(not encontrado and indice == len(probabilidades)):\n",
    "            if(aleatorio <= probabilidades[indice]):\n",
    "                encontrado = True\n",
    "            else:\n",
    "                aleatorio-=probabilidades[indice]\n",
    "                indice+=1\n",
    "\n",
    "        if(indice == len(probabilidades)):\n",
    "            indice -=1\n",
    "        \n",
    "        solucion_actual.append(ciudades_no_analizadas[menores_indices[indice]])\n",
    "        ciudades_no_analizadas.remove(ciudades_no_analizadas[menores_indices[indice]])\n",
    "        \n",
    "\n",
    "    return solucion_actual"
   ]
  },
  {
   "cell_type": "markdown",
   "metadata": {},
   "source": [
    "---\n",
    "## GRASP"
   ]
  },
  {
   "cell_type": "code",
   "execution_count": 9,
   "metadata": {},
   "outputs": [],
   "source": [
    "def grasp(num_ejecuciones,semilla,dataset):\n",
    "    estadisticas = []\n",
    "    matriz_de_costes = calcular_matriz_de_costes(dataset)\n",
    "    mejor_solucion = []\n",
    "    mejor_coste = sys.maxsize\n",
    "\n",
    "    random.seed = semilla\n",
    "    \n",
    "    len_dataset = len(dataset)\n",
    "\n",
    "    for indice in range(num_ejecuciones):\n",
    "        \n",
    "        inicio = time.time()\n",
    "        \n",
    "        solucion_candidata = greedy_aleatorizado(matriz_de_costes,len_dataset)\n",
    "        coste_candidato = calcular_coste(solucion_candidata,matriz_de_costes)\n",
    "        \n",
    "        solucion_candidata_optimizada, coste_candidato_optimizado, evaluaciones = busqueda_local_el_mejor_vecino(solucion_candidata,matriz_de_costes,len_dataset)\n",
    "\n",
    "        if(coste_candidato_optimizado < mejor_coste):\n",
    "            mejor_solucion = solucion_candidata_optimizada\n",
    "            mejor_coste = coste_candidato_optimizado\n",
    "    \n",
    "        fin = time.time()\n",
    "        \n",
    "        estadisticas.append([coste_candidato,coste_candidato_optimizado,mejor_coste,evaluaciones + 1, fin-inicio])\n",
    "    \n",
    "    return [dataset[ciudad] for ciudad in mejor_solucion], mejor_coste, estadisticas"
   ]
  }
 ],
 "metadata": {
  "kernelspec": {
   "display_name": "Python 3",
   "language": "python",
   "name": "python3"
  },
  "language_info": {
   "codemirror_mode": {
    "name": "ipython",
    "version": 3
   },
   "file_extension": ".py",
   "mimetype": "text/x-python",
   "name": "python",
   "nbconvert_exporter": "python",
   "pygments_lexer": "ipython3",
   "version": "3.9.4"
  },
  "metadata": {
   "interpreter": {
    "hash": "28507ff82f7a6249121355dd710cf5a6f691ac69384b468748b19f7d810cf4b6"
   }
  }
 },
 "nbformat": 4,
 "nbformat_minor": 4
}
