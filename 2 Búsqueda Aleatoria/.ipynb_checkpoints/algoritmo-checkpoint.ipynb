{
 "cells": [
  {
   "cell_type": "code",
   "execution_count": 1,
   "id": "built-tragedy",
   "metadata": {},
   "outputs": [],
   "source": [
    "from random import seed\n",
    "from random import randint\n",
    "import numpy\n",
    "import math\n",
    "import sys"
   ]
  },
  {
   "cell_type": "code",
   "execution_count": 2,
   "id": "relevant-continent",
   "metadata": {},
   "outputs": [],
   "source": [
    "def calcular_matriz_distancias(dataset):\n",
    "    n_ciudades = len(dataset)\n",
    "    distancias = numpy.zeros((n_ciudades,n_ciudades))\n",
    "    for i in range(n_ciudades):\n",
    "        for j in range(n_ciudades):\n",
    "            if(i != j):\n",
    "                distancias[i][j] = distancia_euclidea(dataset[i],dataset[j])\n",
    "    return distancias"
   ]
  },
  {
   "cell_type": "code",
   "execution_count": 3,
   "id": "straight-minute",
   "metadata": {},
   "outputs": [],
   "source": [
    "def distancia_euclidea(ciudad_1,ciudad_2):\n",
    "    \n",
    "    x1,y1 = ciudad_1[1 :]\n",
    "    x2,y2 = ciudad_2[1 :]\n",
    "    \n",
    "    xd = x1 - x2;\n",
    "    yd = y1 - y2;\n",
    "    \n",
    "    return round(math.sqrt( xd*xd + yd*yd ))"
   ]
  },
  {
   "cell_type": "code",
   "execution_count": 4,
   "id": "automatic-match",
   "metadata": {},
   "outputs": [],
   "source": [
    "def busqueda_aleatoria(semilla,dataset):\n",
    "    \n",
    "    seed(semilla)\n",
    "    \n",
    "    distancias = calcular_matriz_distancias(dataset)\n",
    "    mejor_camino = []\n",
    "    mejor_coste = sys.maxsize\n",
    "    num_iteraciones = len(dataset)*1600\n",
    "    \n",
    "    for i in range(num_iteraciones): # Condición de parada = 1600 * nº de ciudades evaluaciónes\n",
    "        \n",
    "        indice = randint(0, len(dataset)-1 );\n",
    "        ciudades_analizadas = [dataset[indice]]\n",
    "        ciudades_no_analizadas = dataset.copy()\n",
    "        ciudades_no_analizadas.pop(indice)\n",
    "        coste_actual = 0\n",
    "        \n",
    "        while(len(ciudades_no_analizadas) > 0):\n",
    "    \n",
    "            indice = randint(0, len(ciudades_no_analizadas)-1 );\n",
    "            ciudades_analizadas.append(ciudades_no_analizadas[indice])\n",
    "            ciudades_no_analizadas.pop(indice)\n",
    "            coste_actual += distancias[ciudades_analizadas[-2][0]-1][ciudades_analizadas[-1][0]-1]\n",
    "            \n",
    "        coste_actual += distancias[ciudades_analizadas[-1][0]-1][ciudades_analizadas[0][0]-1]\n",
    "        \n",
    "        if(mejor_coste > coste_actual):\n",
    "            mejor_coste = coste_actual\n",
    "            mejor_camino = ciudades_analizadas\n",
    "    \n",
    "    return mejor_camino, mejor_coste"
   ]
  }
 ],
 "metadata": {
  "kernelspec": {
   "display_name": "Python 3",
   "language": "python",
   "name": "python3"
  },
  "language_info": {
   "codemirror_mode": {
    "name": "ipython",
    "version": 3
   },
   "file_extension": ".py",
   "mimetype": "text/x-python",
   "name": "python",
   "nbconvert_exporter": "python",
   "pygments_lexer": "ipython3",
   "version": "3.7.9"
  }
 },
 "nbformat": 4,
 "nbformat_minor": 5
}
